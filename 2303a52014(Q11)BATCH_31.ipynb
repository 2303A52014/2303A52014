{
  "nbformat": 4,
  "nbformat_minor": 0,
  "metadata": {
    "colab": {
      "provenance": [],
      "authorship_tag": "ABX9TyPbKQcWkbrfs4P/B+z7yOQC",
      "include_colab_link": true
    },
    "kernelspec": {
      "name": "python3",
      "display_name": "Python 3"
    },
    "language_info": {
      "name": "python"
    }
  },
  "cells": [
    {
      "cell_type": "markdown",
      "metadata": {
        "id": "view-in-github",
        "colab_type": "text"
      },
      "source": [
        "<a href=\"https://colab.research.google.com/github/2303A52014/2303A52014/blob/main/2303a52014(Q11)BATCH_31.ipynb\" target=\"_parent\"><img src=\"https://colab.research.google.com/assets/colab-badge.svg\" alt=\"Open In Colab\"/></a>"
      ]
    },
    {
      "cell_type": "code",
      "source": [
        "import pandas as pd\n",
        "import numpy as np\n",
        "import matplotlib.pyplot as plt\n",
        "from sklearn.model_selection import train_test_split\n",
        "from sklearn.ensemble import RandomForestClassifier\n",
        "from sklearn.cluster import KMeans\n",
        "from sklearn.preprocessing import LabelEncoder, StandardScaler\n",
        "from collections import Counter\n",
        "data = pd.read_csv('/content/data.csv')\n",
        "print(data.head())\n",
        "print(data.info())"
      ],
      "metadata": {
        "colab": {
          "base_uri": "https://localhost:8080/"
        },
        "id": "YcajPmNXHrNA",
        "outputId": "c5783cf6-e116-45bd-f719-72e832c3e8ea"
      },
      "execution_count": null,
      "outputs": [
        {
          "output_type": "stream",
          "name": "stdout",
          "text": [
            "   Gender   Age  Height  Weight family_history_with_overweight FAVC  FCVC  \\\n",
            "0  Female  21.0    1.62    64.0                            yes   no   2.0   \n",
            "1  Female  21.0    1.52    56.0                            yes   no   3.0   \n",
            "2    Male  23.0    1.80    77.0                            yes   no   2.0   \n",
            "3    Male  27.0    1.80    87.0                             no   no   3.0   \n",
            "4    Male  22.0    1.78    89.8                             no   no   2.0   \n",
            "\n",
            "   NCP       CAEC SMOKE  CH2O  SCC  FAF  TUE        CALC  \\\n",
            "0  3.0  Sometimes    no   2.0   no  0.0  1.0          no   \n",
            "1  3.0  Sometimes   yes   3.0  yes  3.0  0.0   Sometimes   \n",
            "2  3.0  Sometimes    no   2.0   no  2.0  1.0  Frequently   \n",
            "3  3.0  Sometimes    no   2.0   no  2.0  0.0  Frequently   \n",
            "4  1.0  Sometimes    no   2.0   no  0.0  0.0   Sometimes   \n",
            "\n",
            "                  MTRANS           NObeyesdad  \n",
            "0  Public_Transportation        Normal_Weight  \n",
            "1  Public_Transportation        Normal_Weight  \n",
            "2  Public_Transportation        Normal_Weight  \n",
            "3                Walking   Overweight_Level_I  \n",
            "4  Public_Transportation  Overweight_Level_II  \n",
            "<class 'pandas.core.frame.DataFrame'>\n",
            "RangeIndex: 2111 entries, 0 to 2110\n",
            "Data columns (total 17 columns):\n",
            " #   Column                          Non-Null Count  Dtype  \n",
            "---  ------                          --------------  -----  \n",
            " 0   Gender                          2111 non-null   object \n",
            " 1   Age                             2111 non-null   float64\n",
            " 2   Height                          2111 non-null   float64\n",
            " 3   Weight                          2111 non-null   float64\n",
            " 4   family_history_with_overweight  2111 non-null   object \n",
            " 5   FAVC                            2111 non-null   object \n",
            " 6   FCVC                            2111 non-null   float64\n",
            " 7   NCP                             2111 non-null   float64\n",
            " 8   CAEC                            2111 non-null   object \n",
            " 9   SMOKE                           2111 non-null   object \n",
            " 10  CH2O                            2111 non-null   float64\n",
            " 11  SCC                             2111 non-null   object \n",
            " 12  FAF                             2111 non-null   float64\n",
            " 13  TUE                             2111 non-null   float64\n",
            " 14  CALC                            2111 non-null   object \n",
            " 15  MTRANS                          2111 non-null   object \n",
            " 16  NObeyesdad                      2111 non-null   object \n",
            "dtypes: float64(8), object(9)\n",
            "memory usage: 280.5+ KB\n",
            "None\n"
          ]
        }
      ]
    },
    {
      "cell_type": "markdown",
      "source": [
        "1.identify the top 5 reasons for obestity level\n"
      ],
      "metadata": {
        "id": "GxE25lZsH5Nw"
      }
    },
    {
      "cell_type": "markdown",
      "source": [],
      "metadata": {
        "id": "aJvkeABaIrwC"
      }
    },
    {
      "cell_type": "code",
      "source": [
        "import pandas as pd\n",
        "import numpy as np\n",
        "import matplotlib.pyplot as plt\n",
        "from sklearn.model_selection import train_test_split\n",
        "from sklearn.ensemble import RandomForestClassifier\n",
        "from sklearn.cluster import KMeans\n",
        "from sklearn.preprocessing import LabelEncoder, StandardScaler\n",
        "from collections import Counter\n",
        "\n",
        "\n",
        "data = pd.read_csv('/content/data.csv')\n",
        "\n",
        "\n",
        "df = data.copy()\n",
        "\n",
        "\n",
        "encoder = LabelEncoder()\n",
        "\n",
        "\n",
        "for column in df.columns:\n",
        "\n",
        "    if df[column].dtype == 'object':\n",
        "\n",
        "        df[column] = encoder.fit_transform(df[column])\n",
        "\n",
        "\n",
        "X = df.drop('NObeyesdad', axis=1)\n",
        "y = df['NObeyesdad']\n",
        "\n",
        "\n",
        "rf = RandomForestClassifier(random_state=42)\n",
        "rf.fit(X, y)\n",
        "\n",
        "feature_importance = pd.Series(rf.feature_importances_, index=X.columns).sort_values(ascending=False)\n",
        "print(\"Top 5 Reasons for Obesity Levels:\\n\", feature_importance.head(5))"
      ],
      "metadata": {
        "colab": {
          "base_uri": "https://localhost:8080/"
        },
        "id": "1d14PkFLI2ff",
        "outputId": "8f83663c-4cd6-4e4c-9010-4618e75fa5b9"
      },
      "execution_count": null,
      "outputs": [
        {
          "output_type": "stream",
          "name": "stdout",
          "text": [
            "Top 5 Reasons for Obesity Levels:\n",
            " Weight    0.346339\n",
            "Height    0.104206\n",
            "Age       0.100399\n",
            "FCVC      0.083822\n",
            "Gender    0.060209\n",
            "dtype: float64\n"
          ]
        }
      ]
    },
    {
      "cell_type": "markdown",
      "source": [
        "2.identify the age group with mostly obestity"
      ],
      "metadata": {
        "id": "a6YN7irlI-Rz"
      }
    },
    {
      "cell_type": "code",
      "source": [
        "age_bins = [0, 18, 30, 45, 60, 100]\n",
        "age_labels = ['Child', 'Youth', 'Adult', 'Middle-aged', 'Senior']\n",
        "df['AgeGroup'] = pd.cut(df['Age'], bins=age_bins, labels=age_labels)\n",
        "\n",
        "age_obesity = df.groupby('AgeGroup')['NObeyesdad'].value_counts().unstack()\n",
        "print(\"Obesity by Age Group:\\n\", age_obesity)"
      ],
      "metadata": {
        "colab": {
          "base_uri": "https://localhost:8080/"
        },
        "id": "E0myxwmeI7h3",
        "outputId": "be30ba7e-9c17-426d-ee00-5a48a011228b"
      },
      "execution_count": null,
      "outputs": [
        {
          "output_type": "stream",
          "name": "stdout",
          "text": [
            "Obesity by Age Group:\n",
            " NObeyesdad     0    1    2    3    4    5    6\n",
            "AgeGroup                                      \n",
            "Child         80   68   39    0    1   31   22\n",
            "Youth        189  201  226  187  323  216  172\n",
            "Adult          3   16   84  110    0   42   87\n",
            "Middle-aged    0    1    2    0    0    1    9\n",
            "Senior         0    1    0    0    0    0    0\n"
          ]
        },
        {
          "output_type": "stream",
          "name": "stderr",
          "text": [
            "<ipython-input-9-d5ab72c4204c>:6: FutureWarning:\n",
            "\n",
            "The default of observed=False is deprecated and will be changed to True in a future version of pandas. Pass observed=False to retain current behavior or observed=True to adopt the future default and silence this warning.\n",
            "\n"
          ]
        }
      ]
    },
    {
      "cell_type": "markdown",
      "source": [
        "3.find the max and minnweight of patient with obesity"
      ],
      "metadata": {
        "id": "clBtt8xiJQqo"
      }
    },
    {
      "cell_type": "code",
      "source": [
        "max_weight = data['Weight'].max()\n",
        "min_weight = data['Weight'].min()\n",
        "print(f\"Maximum weight: {max_weight}, Minimum weight: {min_weight}\")"
      ],
      "metadata": {
        "colab": {
          "base_uri": "https://localhost:8080/"
        },
        "id": "kSOuvF9cJkZe",
        "outputId": "ff10c102-2e22-4a64-9f8e-63bfdfb9188e"
      },
      "execution_count": null,
      "outputs": [
        {
          "output_type": "stream",
          "name": "stdout",
          "text": [
            "Maximum weight: 173.0, Minimum weight: 39.0\n"
          ]
        }
      ]
    },
    {
      "cell_type": "markdown",
      "source": [
        "4.name the top 5 eating habits contributing to obestity"
      ],
      "metadata": {
        "id": "y7lwnXiZKW9p"
      }
    },
    {
      "cell_type": "code",
      "source": [
        "# Eating habit columns\n",
        "eating_habits = ['FCVC', 'NCP', 'CAEC', 'CH2O', 'CALC']\n",
        "\n",
        "# Correlation with obesity levels\n",
        "correlation = df[eating_habits + ['NObeyesdad']].corr()\n",
        "print(\"Correlation with Obesity Levels:\\n\", correlation['NObeyesdad'].sort_values(ascending=False))\n"
      ],
      "metadata": {
        "colab": {
          "base_uri": "https://localhost:8080/"
        },
        "id": "2iApeYYzKToi",
        "outputId": "0f2b432f-6ee8-4353-b7b5-55400afa336e"
      },
      "execution_count": null,
      "outputs": [
        {
          "output_type": "stream",
          "name": "stdout",
          "text": [
            "Correlation with Obesity Levels:\n",
            " NObeyesdad    1.000000\n",
            "CAEC          0.327295\n",
            "CH2O          0.108868\n",
            "FCVC          0.018522\n",
            "NCP          -0.092616\n",
            "CALC         -0.134632\n",
            "Name: NObeyesdad, dtype: float64\n"
          ]
        }
      ]
    },
    {
      "cell_type": "markdown",
      "source": [
        "5.identify the highest usage of tech gadgets among the obese patients"
      ],
      "metadata": {
        "id": "QlRSuHdpKuic"
      }
    },
    {
      "cell_type": "code",
      "source": [
        "tech_usage_by_obesity = data.groupby('NObeyesdad')['TUE'].mean()\n",
        "print(\"Tech gadget usage by obesity level:\")\n",
        "print(tech_usage_by_obesity)"
      ],
      "metadata": {
        "colab": {
          "base_uri": "https://localhost:8080/"
        },
        "id": "W5UHzuvfMJh6",
        "outputId": "740d5eee-a5ec-470b-d594-8b8511f44dac"
      },
      "execution_count": null,
      "outputs": [
        {
          "output_type": "stream",
          "name": "stdout",
          "text": [
            "Tech gadget usage by obesity level:\n",
            "NObeyesdad\n",
            "Insufficient_Weight    0.839459\n",
            "Normal_Weight          0.675958\n",
            "Obesity_Type_I         0.676743\n",
            "Obesity_Type_II        0.515186\n",
            "Obesity_Type_III       0.604623\n",
            "Overweight_Level_I     0.612992\n",
            "Overweight_Level_II    0.697275\n",
            "Name: TUE, dtype: float64\n"
          ]
        }
      ]
    },
    {
      "cell_type": "markdown",
      "source": [
        "6.apply either classification model or clustering model to evaluate the dataset"
      ],
      "metadata": {
        "id": "OtvOkyXQMPi1"
      }
    },
    {
      "cell_type": "code",
      "source": [
        "label_encoder = LabelEncoder()\n",
        "data['NObeyesdad_encoded'] = label_encoder.fit_transform(data['NObeyesdad'])\n",
        "\n",
        "X = data.drop(columns=['NObeyesdad', 'NObeyesdad_encoded'])\n",
        "y = data['NObeyesdad_encoded']\n",
        "\n",
        "X = pd.get_dummies(X)\n",
        "scaler = StandardScaler()\n",
        "X_scaled = scaler.fit_transform(X)\n",
        "\n",
        "X_train, X_test, y_train, y_test = train_test_split(X_scaled, y, test_size=0.3, random_state=42)"
      ],
      "metadata": {
        "id": "tmbljMxWMOB7"
      },
      "execution_count": null,
      "outputs": []
    },
    {
      "cell_type": "code",
      "source": [
        "from sklearn.metrics import accuracy_score, classification_report  # Import accuracy_score and classification_report\n",
        "\n",
        "# ... your existing code ...\n",
        "\n",
        "classifier = RandomForestClassifier(random_state=42)\n",
        "classifier.fit(X_train, y_train)\n",
        "y_pred = classifier.predict(X_test)\n",
        "accuracy = accuracy_score(y_test, y_pred) # Now accuracy_score is defined and accessible\n",
        "print(\"Classification Model - Random Forest:\")\n",
        "print(f\"Accuracy: {accuracy:.2f}\")\n",
        "print(\"Classification Report:\")\n",
        "print(classification_report(y_test, y_pred, target_names=label_encoder.classes_))\n"
      ],
      "metadata": {
        "colab": {
          "base_uri": "https://localhost:8080/"
        },
        "id": "UP81XZABNE1y",
        "outputId": "f8376189-b043-4a94-e5d3-63ece1a5ee52"
      },
      "execution_count": null,
      "outputs": [
        {
          "output_type": "stream",
          "name": "stdout",
          "text": [
            "Classification Model - Random Forest:\n",
            "Accuracy: 0.92\n",
            "Classification Report:\n",
            "                     precision    recall  f1-score   support\n",
            "\n",
            "Insufficient_Weight       0.91      0.94      0.93        86\n",
            "      Normal_Weight       0.76      0.85      0.80        93\n",
            "     Obesity_Type_I       0.99      0.95      0.97       102\n",
            "    Obesity_Type_II       0.99      0.99      0.99        88\n",
            "   Obesity_Type_III       1.00      0.99      0.99        98\n",
            " Overweight_Level_I       0.90      0.82      0.86        88\n",
            "Overweight_Level_II       0.92      0.91      0.92        79\n",
            "\n",
            "           accuracy                           0.92       634\n",
            "          macro avg       0.92      0.92      0.92       634\n",
            "       weighted avg       0.93      0.92      0.92       634\n",
            "\n"
          ]
        }
      ]
    },
    {
      "cell_type": "code",
      "source": [
        "kmeans = KMeans(n_clusters=5, random_state=42)\n",
        "data['Cluster'] = kmeans.fit_predict(X_scaled)\n",
        "\n",
        "print(\"\\nClustering Model - KMeans:\")\n",
        "print(data[['NObeyesdad', 'Cluster']].groupby('Cluster').count())\n",
        "\n",
        "import matplotlib.pyplot as plt\n",
        "plt.figure(figsize=(8, 6))\n",
        "plt.hist(data['Cluster'], bins=5, edgecolor='k', alpha=0.7)\n",
        "plt.title(\"Cluster Distribution\")\n",
        "plt.xlabel(\"Cluster\")\n",
        "plt.ylabel(\"Count\")\n",
        "plt.show()"
      ],
      "metadata": {
        "colab": {
          "base_uri": "https://localhost:8080/",
          "height": 700
        },
        "id": "dmV__3GmNIAD",
        "outputId": "be8d34eb-1c80-46c7-d77d-30cbfc9481f4"
      },
      "execution_count": null,
      "outputs": [
        {
          "output_type": "stream",
          "name": "stdout",
          "text": [
            "\n",
            "Clustering Model - KMeans:\n",
            "         NObeyesdad\n",
            "Cluster            \n",
            "0               277\n",
            "1               861\n",
            "2                 7\n",
            "3               242\n",
            "4               724\n"
          ]
        },
        {
          "output_type": "display_data",
          "data": {
            "text/plain": [
              "<Figure size 800x600 with 1 Axes>"
            ],
            "image/png": "[encoded data removed]"
          },
          "metadata": {}
        }
      ]
    }
  ]
}